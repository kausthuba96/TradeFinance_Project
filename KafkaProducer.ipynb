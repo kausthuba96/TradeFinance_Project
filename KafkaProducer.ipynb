{
 "cells": [
  {
   "cell_type": "code",
   "execution_count": 3,
   "id": "74359d81-9921-408f-a886-63660fb4c3b9",
   "metadata": {},
   "outputs": [],
   "source": [
    "from kafka import KafkaProducer\n"
   ]
  },
  {
   "cell_type": "code",
   "execution_count": 5,
   "id": "581f453b-775c-4cb6-89ae-7de3feb1bdf6",
   "metadata": {},
   "outputs": [],
   "source": [
    "import pandas as pd\n",
    "from time import sleep\n",
    "from json import dumps\n",
    "import json"
   ]
  },
  {
   "cell_type": "code",
   "execution_count": 7,
   "id": "00c12be8-1976-4968-8db1-f33c912750ec",
   "metadata": {},
   "outputs": [],
   "source": [
    "producer = KafkaProducer(bootstrap_servers='localhost:9092')"
   ]
  },
  {
   "cell_type": "code",
   "execution_count": 53,
   "id": "43d697e6-ad6d-4522-a9c6-2809cd48389d",
   "metadata": {},
   "outputs": [],
   "source": [
    "message = {\"name\": \"kausthub\"}\n",
    "producer.send('test-topic', value=json.dumps(message).encode('utf-8'))\n",
    "producer.flush()\n",
    "producer.close()"
   ]
  },
  {
   "cell_type": "code",
   "execution_count": 9,
   "id": "b8d84a01-5e93-44af-8a88-23080ce0a24d",
   "metadata": {},
   "outputs": [],
   "source": [
    "df = pd.read_csv(\"/Users/kausthubavanam/desktop/infolimpioavanzadoTarget.csv\")"
   ]
  },
  {
   "cell_type": "code",
   "execution_count": null,
   "id": "a052ad95-b5c1-4334-ac73-f2bf2ebfc037",
   "metadata": {},
   "outputs": [],
   "source": [
    "while True:\n",
    "    dict_stock = df.sample(1).to_dict(orient=\"records\")[0]\n",
    "    json_value = json.dumps(dict_stock).encode('utf-8')\n",
    "    producer.send('demo-topic', value=json_value)\n"
   ]
  },
  {
   "cell_type": "code",
   "execution_count": null,
   "id": "bfa0a465-64fb-43f0-ab39-b2ec2f702493",
   "metadata": {},
   "outputs": [],
   "source": [
    "from kafka import KafkaProducer\n",
    "import json\n",
    "\n",
    "producer = KafkaProducer(bootstrap_servers='localhost:9092')\n",
    "\n",
    "# Send a message\n",
    "producer.send('demo-topic', value=json.dumps({\"name\": \"kausthub\"}).encode('utf-8'))\n",
    "\n",
    "# 🔴 **Close the producer properly**\n",
    "producer.flush()   # Ensure all messages are sent\n",
    "producer.close()   # Clean up connection\n",
    "\n",
    "print(\"✅ Kafka Producer closed.\")\n"
   ]
  },
  {
   "cell_type": "code",
   "execution_count": null,
   "id": "d06d5d92-8379-4242-9c74-a3bda7f3ceec",
   "metadata": {},
   "outputs": [],
   "source": []
  }
 ],
 "metadata": {
  "kernelspec": {
   "display_name": "Python 3 (ipykernel)",
   "language": "python",
   "name": "python3"
  },
  "language_info": {
   "codemirror_mode": {
    "name": "ipython",
    "version": 3
   },
   "file_extension": ".py",
   "mimetype": "text/x-python",
   "name": "python",
   "nbconvert_exporter": "python",
   "pygments_lexer": "ipython3",
   "version": "3.12.4"
  }
 },
 "nbformat": 4,
 "nbformat_minor": 5
}
