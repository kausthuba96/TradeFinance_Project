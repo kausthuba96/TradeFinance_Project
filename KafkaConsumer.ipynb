{
 "cells": [
  {
   "cell_type": "code",
   "execution_count": 1,
   "id": "19f6e608-8f22-489d-86f4-952bda9bbe44",
   "metadata": {},
   "outputs": [],
   "source": [
    "import json\n",
    "import pandas as pd\n",
    "from kafka import KafkaConsumer"
   ]
  },
  {
   "cell_type": "code",
   "execution_count": 3,
   "id": "ff21f580-c342-401f-9610-b2f22d41ccb0",
   "metadata": {},
   "outputs": [
    {
     "name": "stdout",
     "output_type": "stream",
     "text": [
      "Requirement already satisfied: azure-storage-file-datalake in /opt/anaconda3/lib/python3.12/site-packages (12.21.0)\n",
      "Requirement already satisfied: azure-core>=1.30.0 in /opt/anaconda3/lib/python3.12/site-packages (from azure-storage-file-datalake) (1.35.0)\n",
      "Requirement already satisfied: azure-storage-blob>=12.26.0 in /opt/anaconda3/lib/python3.12/site-packages (from azure-storage-file-datalake) (12.26.0)\n",
      "Requirement already satisfied: typing-extensions>=4.6.0 in /opt/anaconda3/lib/python3.12/site-packages (from azure-storage-file-datalake) (4.11.0)\n",
      "Requirement already satisfied: isodate>=0.6.1 in /opt/anaconda3/lib/python3.12/site-packages (from azure-storage-file-datalake) (0.7.2)\n",
      "Requirement already satisfied: requests>=2.21.0 in /opt/anaconda3/lib/python3.12/site-packages (from azure-core>=1.30.0->azure-storage-file-datalake) (2.32.2)\n",
      "Requirement already satisfied: six>=1.11.0 in /opt/anaconda3/lib/python3.12/site-packages (from azure-core>=1.30.0->azure-storage-file-datalake) (1.16.0)\n",
      "Requirement already satisfied: cryptography>=2.1.4 in /opt/anaconda3/lib/python3.12/site-packages (from azure-storage-blob>=12.26.0->azure-storage-file-datalake) (42.0.5)\n",
      "Requirement already satisfied: cffi>=1.12 in /opt/anaconda3/lib/python3.12/site-packages (from cryptography>=2.1.4->azure-storage-blob>=12.26.0->azure-storage-file-datalake) (1.16.0)\n",
      "Requirement already satisfied: charset-normalizer<4,>=2 in /opt/anaconda3/lib/python3.12/site-packages (from requests>=2.21.0->azure-core>=1.30.0->azure-storage-file-datalake) (2.0.4)\n",
      "Requirement already satisfied: idna<4,>=2.5 in /opt/anaconda3/lib/python3.12/site-packages (from requests>=2.21.0->azure-core>=1.30.0->azure-storage-file-datalake) (3.7)\n",
      "Requirement already satisfied: urllib3<3,>=1.21.1 in /opt/anaconda3/lib/python3.12/site-packages (from requests>=2.21.0->azure-core>=1.30.0->azure-storage-file-datalake) (2.2.2)\n",
      "Requirement already satisfied: certifi>=2017.4.17 in /opt/anaconda3/lib/python3.12/site-packages (from requests>=2.21.0->azure-core>=1.30.0->azure-storage-file-datalake) (2024.7.4)\n",
      "Requirement already satisfied: pycparser in /opt/anaconda3/lib/python3.12/site-packages (from cffi>=1.12->cryptography>=2.1.4->azure-storage-blob>=12.26.0->azure-storage-file-datalake) (2.21)\n",
      "Note: you may need to restart the kernel to use updated packages.\n"
     ]
    }
   ],
   "source": [
    "pip install azure-storage-file-datalake"
   ]
  },
  {
   "cell_type": "code",
   "execution_count": 3,
   "id": "4911b1e0-3416-49fd-831f-bf2da0848326",
   "metadata": {},
   "outputs": [],
   "source": [
    "consumer = KafkaConsumer(\n",
    "    'demo-topic',\n",
    "    bootstrap_servers='localhost:9092',\n",
    "    auto_offset_reset='earliest',\n",
    "    enable_auto_commit=True,\n",
    "    group_id='my-consumer-group'\n",
    ")\n"
   ]
  },
  {
   "cell_type": "code",
   "execution_count": 7,
   "id": "d0ca5c63-e621-411a-bc86-4b9a669f1505",
   "metadata": {},
   "outputs": [],
   "source": [
    "from azure.storage.filedatalake import DataLakeServiceClient\n",
    "\n",
    "# Azure ADLS Gen2 credentials\n",
    "storage_account_name = \"financestoragedatalake\"\n",
    "storage_account_key = \"+PXKMWq2qGxY1lhlFYXTTobpsqMGMtkka9e9yV2XisGsX7U5qrzsbkpSDJyOAk9MUsN3retAaAHq+AStKQJw/A==\"\n",
    "\n",
    "# Authenticate Data Lake client\n",
    "service_client = DataLakeServiceClient(\n",
    "    account_url=f\"https://financestoragedatalake.dfs.core.windows.net\",\n",
    "    credential=storage_account_key\n",
    ")\n",
    "\n",
    "file_system_client = service_client.get_file_system_client(file_system=\"bronze\")\n",
    "directory_client = file_system_client.get_directory_client(\"kafka-output\")\n",
    "\n",
    "file_client = directory_client.create_file(\"kafka_data.jsonl\")  # writing as line-delimited JSON"
   ]
  },
  {
   "cell_type": "code",
   "execution_count": null,
   "id": "ef1ba90e-7edf-4359-b02f-29a2ca29e15d",
   "metadata": {},
   "outputs": [],
   "source": [
    "messages = []\n",
    "\n",
    "for msg in consumer:\n",
    "    decoded_message = msg.value.decode('utf-8')  # bytes ➔ str\n",
    "    messages.append(decoded_message)  # already JSON string\n",
    "\n",
    "if messages:\n",
    "    data = \"\\n\".join(messages)\n",
    "\n",
    "    # Upload to ADLS Gen2\n",
    "    file_client.append_data(data=data, offset=0, length=len(data))\n",
    "    file_client.flush_data(len(data))\n",
    "\n",
    "    print(f\"✅ Written {len(messages)} messages to ADLS Gen2\")\n",
    "else:\n",
    "    print(\"⚠ No messages found in topic.\")\n"
   ]
  },
  {
   "cell_type": "code",
   "execution_count": null,
   "id": "b998c7fc-23b2-4e74-b28c-4788693becea",
   "metadata": {},
   "outputs": [],
   "source": [
    "from kafka import KafkaConsumer\n",
    "\n",
    "consumer = KafkaConsumer(\n",
    "    'demo-topic',\n",
    "    bootstrap_servers='localhost:9092',\n",
    "    auto_offset_reset='earliest',\n",
    "    enable_auto_commit=True\n",
    ")\n",
    "\n",
    "# Read messages\n",
    "for message in consumer:\n",
    "    print(message.value.decode('utf-8'))\n",
    "    # Optional exit condition to break\n",
    "\n",
    "# 🔴 **Close the consumer properly**\n",
    "consumer.close()\n",
    "\n",
    "print(\"✅ Kafka Consumer closed.\")\n"
   ]
  },
  {
   "cell_type": "code",
   "execution_count": null,
   "id": "798a4f09-97bb-4fa6-8678-01fb2ad4be1f",
   "metadata": {},
   "outputs": [],
   "source": [
    "consumer.close()"
   ]
  },
  {
   "cell_type": "code",
   "execution_count": null,
   "id": "ef6997eb-a24f-4cd1-8273-be0db87b1dda",
   "metadata": {},
   "outputs": [],
   "source": []
  }
 ],
 "metadata": {
  "kernelspec": {
   "display_name": "Python 3 (ipykernel)",
   "language": "python",
   "name": "python3"
  },
  "language_info": {
   "codemirror_mode": {
    "name": "ipython",
    "version": 3
   },
   "file_extension": ".py",
   "mimetype": "text/x-python",
   "name": "python",
   "nbconvert_exporter": "python",
   "pygments_lexer": "ipython3",
   "version": "3.12.4"
  }
 },
 "nbformat": 4,
 "nbformat_minor": 5
}
